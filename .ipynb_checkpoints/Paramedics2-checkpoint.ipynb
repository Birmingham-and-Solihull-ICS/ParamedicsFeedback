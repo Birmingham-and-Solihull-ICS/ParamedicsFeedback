{
  "cells": [
    {
      "cell_type": "raw",
      "metadata": {},
      "source": [
        "--- \n",
        "title: \"Paramedics Feedback Analysis\"\n",
        "format: \n",
        "    dashboard:\n",
        "        fontsize: 12\n",
        "        logo: BSOLICB.png\n",
        "        theme: cosmo\n",
        "        scrolling: true\n",
        "        expandable: true\n",
        "        embed-resources: true\n",
        "        nav-buttons:\n",
        "            - icon: house-door-fill\n",
        "              href: userinfo.html\n",
        "            - icon: info-circle\n",
        "              href: howto.html\n",
        "            - icon: github\n",
        "              href: https://github.com/orgs/Birmingham-and-Solihull-ICS/repositories\n",
        "            - icon: inbox\n",
        "              href: contact.html\n",
        "              \n",
        "execute:\n",
        "    freeze: true\n",
        "\n",
        "--- "
      ],
      "id": "9484ba2b"
    },
    {
      "cell_type": "code",
      "metadata": {},
      "source": [
        "#| output: false\n",
        "#| echo: false\n",
        "import pandas as pd\n",
        "import os\n",
        "import nltk\n",
        "from nltk.corpus import stopwords\n",
        "from nltk.tokenize import word_tokenize\n",
        "from nltk.tag import pos_tag\n",
        "from nltk.stem.wordnet import WordNetLemmatizer\n",
        "import re, string\n",
        "\n",
        "nltk.download(['punkt',\n",
        "              'stopwords',\n",
        "              'wordnet',\n",
        "               'omw-1.4',\n",
        "              'averaged_perceptron_tagger'])"
      ],
      "id": "34e39467",
      "execution_count": null,
      "outputs": []
    },
    {
      "cell_type": "code",
      "metadata": {},
      "source": [
        "data = pd.read_excel('data\\Feedback from Paramedics on the Road.xlsx', sheet_name='Data')\n",
        "theme = pd.read_excel('data\\SurveyTheme.xlsx')\n",
        "\n",
        "subset = data.loc[:, ['How easy is it to access a GP via the Non-Public number?',\n",
        "                     'What services do you need to support you with admission avoidance to ED?',\n",
        "                     'How likely are you to recommend OPAL+ to a colleague?',\n",
        "                     'Have you used Patient Services on DoS?',\n",
        "                     'Do Senior Clinicians come out to the Ambulance to discuss your patient when delayed?',\n",
        "                     'Who do you call for Clinical Support on scene?',\n",
        "                     'What do you feel would improve handover delays?',\n",
        "                    'Have you used SDEC Services?'\n",
        "                     ]]"
      ],
      "id": "6a6e9041",
      "execution_count": null,
      "outputs": []
    },
    {
      "cell_type": "code",
      "metadata": {},
      "source": [
        "def remove_noise_and_lemmatize(tokens, stop_words=()):\n",
        "    lemmatizer = WordNetLemmatizer()\n",
        "    cleaned_tokens = []\n",
        "\n",
        "    for token, tag in pos_tag(tokens):\n",
        "        if token.lower() not in stop_words and token not in string.punctuation:\n",
        "            pos = 'n' if tag.startswith('NN') else 'v' if tag.startswith('VB') else 'a'\n",
        "            lemmatized_token = lemmatizer.lemmatize(token, pos)\n",
        "            cleaned_tokens.append(lemmatized_token.lower())\n",
        "\n",
        "    return cleaned_tokens\n",
        "\n",
        "def clean_text(text):\n",
        "    if not isinstance(text, str):\n",
        "        text = ''\n",
        "    \n",
        "     # Create a translation table that maps apostrophes to None\n",
        "    translator = str.maketrans('', '', \"\")\n",
        "    \n",
        "    # Custom replacements for common contractions\n",
        "    contractions_dict = {\n",
        "        'don’t': 'dont', 'won’t': 'wont', 'can’t': 'cant',\n",
        "        'isn’t': 'isnt', 'aren’t': 'arent', 'didn’t': 'didnt'\n",
        "    }\n",
        "    \n",
        "    for contraction, replacement in contractions_dict.items():\n",
        "        text = text.replace(contraction, replacement)\n",
        "        \n",
        "    # Remove apostrophes\n",
        "    text = text.translate(translator)\n",
        "\n",
        "    tokens = word_tokenize(text.lower())\n",
        "    cleaned_tokens = remove_noise_and_lemmatize(tokens, set(stopwords.words('english')))\n",
        "\n",
        "    return cleaned_tokens\n",
        "\n",
        "def tokenize_responses(column):\n",
        "    cleaned_responses = column.apply(clean_text)\n",
        "    flat_list = [word for sublist in cleaned_responses for word in sublist]\n",
        "    flat_list = [word for word in flat_list if word.isalpha()]\n",
        "    return pd.DataFrame(flat_list, columns=['Words'])"
      ],
      "id": "bb73f0b3",
      "execution_count": null,
      "outputs": []
    },
    {
      "cell_type": "code",
      "metadata": {},
      "source": [
        "from nltk.collocations import BigramCollocationFinder, BigramAssocMeasures\n",
        "\n",
        "def find_bigrams(tokenized_df):\n",
        "    words = tokenized_df['Words'].tolist()\n",
        "    \n",
        "    # Find bi-grams\n",
        "    finder = BigramCollocationFinder.from_words(words)\n",
        "    \n",
        "    # Use Finder to find bi-grams\n",
        "    scored = finder.score_ngrams(nltk.collocations.BigramAssocMeasures().raw_freq)\n",
        "    \n",
        "    # Sort the bi-grams by frequency\n",
        "    sorted_bigrams = sorted(scored, key=lambda x: x[1], reverse=True)\n",
        "    \n",
        "    # Create a DataFrame\n",
        "    bigrams_df = pd.DataFrame(sorted_bigrams, columns=['Bigram', 'Frequency'])\n",
        "    \n",
        "    return bigrams_df"
      ],
      "id": "32c63320",
      "execution_count": null,
      "outputs": []
    },
    {
      "cell_type": "code",
      "metadata": {},
      "source": [
        "# Create DataFrames for Each Question\n",
        "Q1_df = tokenize_responses(subset['How easy is it to access a GP via the Non-Public number?'])\n",
        "Q2_df = tokenize_responses(subset['What services do you need to support you with admission avoidance to ED?'])\n",
        "Q3_df = tokenize_responses(subset['How likely are you to recommend OPAL+ to a colleague?'])\n",
        "Q4_df = tokenize_responses(subset['Have you used Patient Services on DoS?'])\n",
        "Q5_df = tokenize_responses(subset['Do Senior Clinicians come out to the Ambulance to discuss your patient when delayed?'])\n",
        "Q6_df = tokenize_responses(subset['Who do you call for Clinical Support on scene?'])\n",
        "Q7_df = tokenize_responses(subset['What do you feel would improve handover delays?'])\n",
        "Q8_df = tokenize_responses(subset['Have you used SDEC Services?'])"
      ],
      "id": "303b61ef",
      "execution_count": null,
      "outputs": []
    },
    {
      "cell_type": "code",
      "metadata": {},
      "source": [
        "# Function to calculate word frequency\n",
        "def word_frequency(data, column):\n",
        "    word_counts = data[column].value_counts()\n",
        "    word_counts_df = word_counts.reset_index()\n",
        "    word_counts_df.columns = ['Word', 'Frequency']\n",
        "    \n",
        "    return word_counts_df\n",
        "\n",
        "Q1_word_counts = word_frequency(Q1_df, 'Words')\n",
        "Q2_word_counts = word_frequency(Q2_df, 'Words')\n",
        "Q3_word_counts = word_frequency(Q3_df, 'Words')\n",
        "Q4_word_counts = word_frequency(Q4_df, 'Words')\n",
        "Q5_word_counts = word_frequency(Q5_df, 'Words')\n",
        "Q6_word_counts = word_frequency(Q6_df, 'Words')\n",
        "Q7_word_counts = word_frequency(Q7_df, 'Words')\n",
        "Q8_word_counts = word_frequency(Q8_df, 'Words')"
      ],
      "id": "76ff0ec7",
      "execution_count": null,
      "outputs": []
    },
    {
      "cell_type": "code",
      "metadata": {},
      "source": [
        "#| echo: false\n",
        "#| label: functions\n",
        "\n",
        "#1. Function to plot word frequency \n",
        "import plotly.graph_objects as go\n",
        "\n",
        "def plot_word_frequency(word_counts_df, plot_width=800, plot_height=600):\n",
        "    # Sort the DataFrame by frequency in descending order\n",
        "    sorted_df = word_counts_df.sort_values(by='Frequency', ascending=False)\n",
        "\n",
        "    # Create a horizontal bar chart\n",
        "    fig = go.Figure([go.Bar(x=sorted_df['Frequency'], y=sorted_df['Word'], orientation='h')])\n",
        "\n",
        "    # Add titles and labels\n",
        "    fig.update_layout(\n",
        "        title='Word Frequency Distribution',\n",
        "        xaxis_title='Frequency',\n",
        "        yaxis_title='Words',\n",
        "        yaxis=dict(autorange=\"reversed\"),  # To display highest frequencies at the top\n",
        "        width=plot_width,  # Width of the plot\n",
        "        height=plot_height  # Height of the plot\n",
        "    )\n",
        "\n",
        "    # Show the plot\n",
        "    fig.show()\n",
        "\n",
        "\n",
        "#2. Function to plot bar chart\n",
        "\n",
        "import plotly.express as px\n",
        "\n",
        "## Horizontal bar chart\n",
        "\n",
        "def plot_bar_chart(data, column, title):\n",
        "    \n",
        "    value_counts = data[column].value_counts().reset_index()\n",
        "    value_counts.columns = ['Responses', 'Frequency']\n",
        "    sorted_df = value_counts.sort_values(by='Frequency', ascending=False)\n",
        "    \n",
        "    fig = px.bar(sorted_df, x='Frequency', y='Responses', title=title, text = \"Frequency\", color=\"Frequency\",\n",
        "    color_continuous_scale=px.colors.sequential.Viridis)\n",
        "    fig.update_traces(textposition=\"outside\", textangle=0, cliponaxis=False, textfont_size=8)\n",
        "    fig.update_layout(\n",
        "        yaxis={'categoryorder':'total ascending'},\n",
        "        showlegend=False,\n",
        "        coloraxis_showscale=False\n",
        "        # width=800,  # Width of the plot\n",
        "        #height=plot_height  # Height of the plot\n",
        "    )\n",
        "    fig.show()\n",
        "\n",
        "## Vertical bar chart\n",
        "\n",
        "def plot_bar_chart2(data, column, title):\n",
        "    value_counts = data[column].value_counts().reset_index()\n",
        "    value_counts.columns = ['Responses', 'Frequency']\n",
        "    sorted_df = value_counts.sort_values(by='Frequency', ascending=False)\n",
        "\n",
        "    fig = px.bar(sorted_df, x='Responses', y=\"Frequency\", title=title,\n",
        "                 text=\"Frequency\", color=\"Frequency\", color_continuous_scale=px.colors.sequential.Cividis_r)\n",
        "\n",
        "    fig.update_traces(textposition=\"outside\", textangle=0, cliponaxis=False, textfont_size=8)\n",
        "\n",
        "    fig.update_layout(\n",
        "        yaxis={'categoryorder': 'total ascending'},\n",
        "        xaxis_tickangle=-45,\n",
        "        showlegend=False,\n",
        "        coloraxis_showscale=False,\n",
        "        margin=dict(b=100) # Adjust bottom margin to ensure labels fit\n",
        "        # width=800,  # Width of the plot\n",
        "        # height=plot_height  # Height of the plot\n",
        "    )\n",
        "    fig.show()\n",
        "    \n",
        "#3. Function to plot word cloud\n",
        "\n",
        "from wordcloud import WordCloud\n",
        "import matplotlib.pyplot as plt\n",
        "\n",
        "def plot_wordcloud(word_counts_data):\n",
        "    \n",
        "    # Create a dictionary where keys are words and values are their corresponding frequencies\n",
        "    word_freq_dict = word_counts_data.set_index('Word')['Frequency'].to_dict()\n",
        "    \n",
        "    # Create a WordCloud object\n",
        "    wordcloud = WordCloud(width=800, height=600, background_color ='white')\n",
        "\n",
        "    # Generate a word cloud\n",
        "    wordcloud.generate_from_frequencies(word_freq_dict)\n",
        "\n",
        "    # Display the word cloud using matplotlib\n",
        "    plt.figure(figsize=(10, 5))\n",
        "    plt.imshow(wordcloud, interpolation='bilinear')\n",
        "    plt.axis('off')  # Turn off axis numbers and labels\n",
        "    plt.show()\n",
        "    \n",
        "#4. Function to plot treemap for bigrams\n",
        "def plot_treemap(ngrams_function, tokenized_response_df, ngram_column):\n",
        "    ngrams_df = ngrams_function(tokenized_response_df)\n",
        "    \n",
        "    # Convert each tuple in the 'n-gram' column to a string\n",
        "    ngrams_df[ngram_column] = ngrams_df[ngram_column].apply(lambda x: ', '.join(x))\n",
        "    \n",
        "    total_freq = ngrams_df['Frequency'].sum()\n",
        "    ngrams_df['Frequency'] = (ngrams_df['Frequency'] / total_freq) * 100\n",
        "    modified_ngram = ngram_column.replace(\"gram\", \"-grams\")\n",
        "\n",
        "    # Plot using plotly\n",
        "    fig = px.treemap(\n",
        "        ngrams_df.head(20),  \n",
        "        path=[ngram_column],\n",
        "        values='Frequency',\n",
        "        title=f\"Top 20 {modified_ngram} by Frequency (%)\",\n",
        "        custom_data=[ngram_column, 'Frequency'] \n",
        "    )\n",
        "\n",
        "    # Update hover template to show only bigrams and frequency\n",
        "    fig.update_traces(\n",
        "        hovertemplate='<b>%{customdata[0]}</b><br>Frequency: %{customdata[1]:.2f}%',\n",
        "        textposition='middle center',  # Center the text inside the boxes\n",
        "        textfont=dict(size=8)          # Set the text font size\n",
        "    )\n",
        "\n",
        "    fig.update_layout(\n",
        "        uniformtext=dict(minsize=8, mode='hide'),\n",
        "        coloraxis_showscale=False,\n",
        "        height=600,\n",
        "        width=1000\n",
        "    )\n",
        "\n",
        "    fig.show()"
      ],
      "id": "functions",
      "execution_count": null,
      "outputs": []
    },
    {
      "cell_type": "markdown",
      "metadata": {},
      "source": [
        "# Q1 \n",
        "\n",
        "## {.sidebar}\n",
        "\n",
        "**Summary**:\n",
        "\n",
        "1. The most frequent response indicated that accessing a GP via the Non-Public number is \"Easy,\" which suggests a generally positive experience for the majority of respondents.\n",
        "\n",
        "2. This is followed by reports of service inconsistency, as reflected in the \"Hit and miss\" responses.\n",
        "\n",
        "3. A number of respondents expressed that it \"Takes too long\" to access a GP via the Non-Public number, highlighting issues related to delays.\n",
        "\n",
        "4. Responses such as \"Process does not work,\" \"Numbers usually don't work,\" and \"Don't answer the phone\" point to significant difficulties and functionality issues within the service.\n",
        "\n",
        "5. Three respondents mentioned that access success depended on the practice, with some needing to call back on the practice's regular number and wait in the queue, thus indicating that not all practices have Non-Public numbers.\n",
        "\n",
        "## Column \n"
      ],
      "id": "9b11798b"
    },
    {
      "cell_type": "code",
      "metadata": {
        "title": "How easy is it to access a GP via the Non-Public number?"
      },
      "source": [
        "Q1_theme = pd.DataFrame(theme.iloc[:, 0].dropna())\n",
        "\n",
        "plot_bar_chart2(Q1_theme, column = 'Q1.Theme', title = \"\" )"
      ],
      "id": "490b05c2",
      "execution_count": null,
      "outputs": []
    },
    {
      "cell_type": "markdown",
      "metadata": {},
      "source": [
        "## Column {.tabset}\n"
      ],
      "id": "d3063247"
    },
    {
      "cell_type": "code",
      "metadata": {
        "title": "The Most Frequent Unigrams"
      },
      "source": [
        "plot_wordcloud(Q1_word_counts)"
      ],
      "id": "99b37f1a",
      "execution_count": null,
      "outputs": []
    },
    {
      "cell_type": "code",
      "metadata": {
        "title": "The Most Frequent Bigrams"
      },
      "source": [
        "plot_treemap(ngrams_function = find_bigrams, tokenized_response_df = Q1_df,  ngram_column = \"Bigram\")"
      ],
      "id": "ce587067",
      "execution_count": null,
      "outputs": []
    },
    {
      "cell_type": "markdown",
      "metadata": {},
      "source": [
        "# Q2 {orientation=\"columns\" fill=\"false\"}\n",
        "\n",
        "## {.sidebar}\n",
        "\n",
        "**Summary**:\n",
        "\n",
        "1. *Improved Out-of-Hours and Overnight Services*: Needs for more services outside normal GP hours, including out-of-hours GPs, district nurses, and extended hours for services like OPAL or SDEC.\n",
        "\n",
        "2. *More Specialised Services and Direct Acess*: Suggestions include direct access to services like SDEC, SAU, MAU, ENT, urology, and pediatric advice for under 1s, without the need to go through EDs. \n",
        "\n",
        "3. *Streamlined Referral Processes and Single Point of Contact*: Having a single point of access for various services like OPAL, community, 111, & mental health or a simplified referral process to reduce confusion and enhance efficiency. \n",
        "\n",
        "4. *Mental Health Services*: Emphasizes the need for enhanced mental health services, including 24/7 mental health triage and direct access to mental health support without intermediary services. \n",
        "\n",
        "5. *Increased Acceptance of Referrals and Expanded Criteria*: Calls for broader acceptance of referrals to specialized units and less rejection of non-critical cases to ED. \n",
        "\n",
        "6. *Community and Home-Based Care*: Suggestions for more community-based services, night-sitting, increased capacity in community hospitals, and more in-home care options to reduce ED admissions. \n",
        "\n",
        "7. *Digital and Updated Directories of Services*: The need for a digital, constantly updated directory of services, possibly with a system that suggests the best service options based on input criteria.\n",
        "\n",
        "8. *Funding and Resources for Bed Availability*: Addressing the issue of bed shortages and funding for more in-patient care facilities.\n",
        "\n",
        "9. *Improved Patient Education and Public Awareness*: Emphasizing the need for educating the public on when to use emergency services and the availability of alternatives.\n",
        "\n",
        "10. *Enhanced Skills and Capabilities for Paramedics*:  Emphasizes the need for expanding the scope of practice for paramedics, including the ability to perform more advanced medical procedures and to prescribe medications.\n",
        "\n",
        "11. *Enhanced Support for Social Issues*: It emphasizes the need for better support mechanisms for patients who have social care needs rather than medical emergencies.\n",
        "\n",
        "12. *Enhanced Support for Specific Conditions*: This includes pathways for conditions like TIA (Transient Ischemic Attack), chest pain clinics, early pregnancy issues, and catheter problems.\n",
        "\n",
        "13. *Improved Clinical Decision Making*: Highlights the need for more effective consultation with experienced clinicians to determine the most appropriate level of care required, and subsequently, to facilitate referrals to alternative, possibly less intensive services when appropriate. \n",
        "\n",
        "14. *Improving Pre-Hospital Care and Discharge Processes*: The response questions why patients can't be treated and discharged directly from an ambulance when appropriate and calls for more support for patients with social issues who are medically fit but cannot be left at home.\n",
        "\n",
        "## Column \n"
      ],
      "id": "8ac2beb1"
    },
    {
      "cell_type": "code",
      "metadata": {
        "title": "What services do you need to support you with admission avoidance to ED?"
      },
      "source": [
        "Q2_theme = pd.DataFrame(theme.iloc[:, 1].dropna())\n",
        "\n",
        "plot_bar_chart(Q2_theme, column = 'Q2.Theme', title = \"\")"
      ],
      "id": "b997c37d",
      "execution_count": null,
      "outputs": []
    },
    {
      "cell_type": "markdown",
      "metadata": {},
      "source": [
        "## Column {.tabset}\n"
      ],
      "id": "eb874fc8"
    },
    {
      "cell_type": "code",
      "metadata": {
        "title": "The Most Frequent Unigrams"
      },
      "source": [
        "plot_wordcloud(Q2_word_counts)"
      ],
      "id": "fb63de7a",
      "execution_count": null,
      "outputs": []
    },
    {
      "cell_type": "code",
      "metadata": {
        "title": "The Most Frequent Bigrams"
      },
      "source": [
        "plot_treemap(ngrams_function = find_bigrams, tokenized_response_df = Q2_df,  ngram_column = \"Bigram\")"
      ],
      "id": "4404ba05",
      "execution_count": null,
      "outputs": []
    },
    {
      "cell_type": "markdown",
      "metadata": {},
      "source": [
        "# Q3 to Q5\n",
        "\n",
        "## Row {height=51% fill=\"false\"}\n"
      ],
      "id": "e32a3563"
    },
    {
      "cell_type": "code",
      "metadata": {
        "title": "How likely are you to recommend OPAL+ to a colleague?"
      },
      "source": [
        "Q3 = pd.DataFrame(subset.iloc[:, 2])\n",
        "\n",
        "plot_bar_chart2(Q3, column = 'How likely are you to recommend OPAL+ to a colleague?', title = \"\")"
      ],
      "id": "3a6f6c3d",
      "execution_count": null,
      "outputs": []
    },
    {
      "cell_type": "markdown",
      "metadata": {},
      "source": [
        "## Row {height=49% fill=\"false\"}\n"
      ],
      "id": "2d6d7b49"
    },
    {
      "cell_type": "code",
      "metadata": {
        "title": "Have you used Patient Services on DoS?"
      },
      "source": [
        "Q4 = pd.DataFrame(subset.iloc[:, 3])\n",
        "\n",
        "plot_bar_chart2(Q4, column = 'Have you used Patient Services on DoS?', title = \"\")"
      ],
      "id": "7187e1e3",
      "execution_count": null,
      "outputs": []
    },
    {
      "cell_type": "code",
      "metadata": {
        "title": "Do Senior Clinicians come out to the Ambulance to discuss your patient when delayed?"
      },
      "source": [
        "Q5 = pd.DataFrame(subset.iloc[:, 4])\n",
        "\n",
        "plot_bar_chart2(Q5, column = 'Do Senior Clinicians come out to the Ambulance to discuss your patient when delayed?', title = \"\")"
      ],
      "id": "4f449ed5",
      "execution_count": null,
      "outputs": []
    },
    {
      "cell_type": "markdown",
      "metadata": {},
      "source": [
        "# Q6 {orientation=\"columns\" fill=\"false\"}\n",
        "\n",
        "## {.sidebar}\n",
        "\n",
        "**Summary**:\n",
        "\n",
        "1. *Referral to Specific Services*: Referral to specific services based on the patient's needs, including various specialized healthcare services.\n",
        "\n",
        "2. *General Practitioner (GP)*: Many respondents mentioned calling a GP for clinical support on scene. \n",
        "\n",
        "3. *Depends on the Case*: Several responses highlight that the decision on whom to call is dependent on the particular situation at hand. These include calling direct wards, district nurses, or other relevant agencies.\n",
        "\n",
        "\n",
        "## Column \n"
      ],
      "id": "4e9dc5a7"
    },
    {
      "cell_type": "code",
      "metadata": {
        "title": "Who do you call for Clinical Support on scene?"
      },
      "source": [
        "Q6_theme = pd.DataFrame(theme.iloc[:, 2].dropna())\n",
        "\n",
        "plot_bar_chart2(Q6_theme, column = 'Q6.Theme', title = \"\" )"
      ],
      "id": "7fd95618",
      "execution_count": null,
      "outputs": []
    },
    {
      "cell_type": "markdown",
      "metadata": {},
      "source": [
        "## Column {.tabset}\n"
      ],
      "id": "2049be80"
    },
    {
      "cell_type": "code",
      "metadata": {
        "title": "The Most Frequent Unigrams"
      },
      "source": [
        "plot_wordcloud(Q6_word_counts)"
      ],
      "id": "6c35e424",
      "execution_count": null,
      "outputs": []
    },
    {
      "cell_type": "code",
      "metadata": {
        "title": "The Most Frequent Bigrams"
      },
      "source": [
        "plot_treemap(ngrams_function = find_bigrams, tokenized_response_df = Q6_df,  ngram_column = \"Bigram\")"
      ],
      "id": "703cfc38",
      "execution_count": null,
      "outputs": []
    },
    {
      "cell_type": "markdown",
      "metadata": {},
      "source": [
        "# Q7 {orientation=\"columns\" fill=\"false\"}\n",
        "\n",
        "## {.sidebar}\n",
        "\n",
        "**Summary**:\n",
        "\n",
        "1. *Enhanced Pre-Hospital Capabilities*: Some respondents suggest allowing ambulance clinicians to perform more diagnostic tests (like blood tests) on scene to streamline the patient journey and reduce delays upon arrival at the hospital.\n",
        "\n",
        "2. *Streamlining Hospital Admissions and Discharges*: Responses suggest enhancing hospital discharge processes, especially during weekends, and considering alternative locations for waiting patients, like interim discharge wards.\n",
        "\n",
        "3. *Improved Triage and Assessment Processes*: Many responses highlight the need for better triage systems, both in ambulance services and at hospitals, to ensure that patients are directed to the most appropriate care setting. This includes immediate triage by senior clinicians and better assessment on 111 calls.\n",
        "\n",
        "4. *Extended Hours and Availability of Alternative Pathways*: Several responses suggest extending the operational hours of alternative healthcare pathways and services, such as Same Day Emergency Care (SDEC), Minor Injuries Units, and Out-of-Hours services, to reduce the reliance on emergency departments.\n",
        "\n",
        "5. *Hospital and ED Operational Changes*: Responses indicate a need for hospitals to take more responsibility in managing handovers, such as providing cohort nurses, using corridors for patient care, and improving internal hospital processes to expedite patient flow.\n",
        "\n",
        "6. *Direct Acess to Specialised Services*:Suggestions on having direct access to specialised services including MAU, SAU, pathways for TIA and  non cardiac chest pain.\n",
        "\n",
        "7. *Increased Social and Community Care Support*: A few responses point to the need for more social care and community support to increase discharge rates from hospitals, thereby freeing up space and reducing handover delays.\n",
        "\n",
        "8. *Improved Coordination and Communication*: Emphasizing the need for better communication between ambulance services and hospital staff, and more effective coordination of care, including the use of technology for handover processes.\n",
        "\n",
        "9. *Optimizing Resource Utilization and Alternative Transportation*. Highlighting the importance of using resources efficiently by employing alternative transportation methods, such as taxis, for cases where ambulance services are not critically needed. This approach aims to ensure that ambulance services are reserved for more urgent and serious medical situations, while still providing a means for individuals to reach emergency departments when necessary.\n",
        "\n",
        "10. *Public Education and Awareness*: Emphasis on educating the public about when to attend A&E, the availability of GP services, and the existence of alternative pathways. This includes suggestions for national advertising campaigns to inform the public about the appropriate use of healthcare services.\n",
        "\n",
        "11. *Increased Acceptance of Referrals and Expanded Criteria*: Calls for broader acceptance of referrals to specialized units and less rejection of non-critical cases to ED. \n",
        "\n",
        "12. *Funding and Resources for Bed Availability*:  Addressing the issue of bed shortages and funding for more in-patient care facilities.\n",
        "\n",
        "13. *Enhanced Skills and Capabilities for Paramedics*: Emphasizes the need for expanding the scope of practice for paramedics, including the ability to perform more advanced medical procedures and to prescribe medications.\n",
        "\n",
        "14. *Political and Systemic Changes*: Some respondents mention the need for political action and prioritization, implying that the issue of handover delays requires systemic changes at a higher level.\n",
        "\n",
        "15. *Welfare Support or Crews*: Calls for welfare support for crews who are typically stuck outside ED for hours.\n",
        "\n",
        "16. *Walk-in Centre Drop-in Availability*: Suggestions on having walk-in drop-in availability.\n",
        "\n",
        "17. *Preventative Care and Early Intervention*. Emphasizing the importance of primary care providers, such as General Practitioners (GPs), in preventing conditions from escalating to the point where hospitalization is necessary.\n",
        "\n",
        "18. *Consistent and Standardized Pathways Across Services*: There's a call for more standardized and uniform pathways across different healthcare services to reduce confusion and inefficiency.\n",
        "\n",
        "19. *Funding and Resources for Bed Availability*: Addressing the issue of bed shortages and funding for more in-patient care facilities.\n",
        "\n",
        "20. *Staffing and Resource Enhancements*: Increasing staffing levels, especially during peak times, and improving resource allocation within hospitals and ambulance services.\n",
        "\n",
        "## Column \n"
      ],
      "id": "0e987ba4"
    },
    {
      "cell_type": "code",
      "metadata": {
        "title": "What do you feel would improve handover delays?"
      },
      "source": [
        "Q7_theme = pd.DataFrame(theme.iloc[:, 3].dropna())\n",
        "\n",
        "plot_bar_chart(Q7_theme, column = 'Q7.Theme', title = \"\" )"
      ],
      "id": "b64eba52",
      "execution_count": null,
      "outputs": []
    },
    {
      "cell_type": "markdown",
      "metadata": {},
      "source": [
        "## Column {.tabset}\n"
      ],
      "id": "27b727f4"
    },
    {
      "cell_type": "code",
      "metadata": {
        "title": "The Most Frequent Unigrams"
      },
      "source": [
        "plot_wordcloud(Q7_word_counts)"
      ],
      "id": "f4f537fb",
      "execution_count": null,
      "outputs": []
    },
    {
      "cell_type": "code",
      "metadata": {
        "title": "The Most Frequent Bigrams"
      },
      "source": [
        "plot_treemap(ngrams_function = find_bigrams, tokenized_response_df = Q7_df,  ngram_column = \"Bigram\")"
      ],
      "id": "6868f807",
      "execution_count": null,
      "outputs": []
    },
    {
      "cell_type": "markdown",
      "metadata": {},
      "source": [
        "# Q8\n",
        "\n",
        "## {.sidebar}\n",
        "\n",
        "**Summary**:\n",
        "\n",
        "1. The majority of responses indicate that respondents have utilized SDEC services, followed by \"No\" responses.\n",
        "\n",
        "2. *Tried but Unsuccessful*: Respondents attempted to use SDEC services but were unsuccessful, often due to full capacity or service unavailability. \n",
        "<br>\n",
        "*Examples*:\n",
        "<br>\n",
        "\"I have tried to refer and they are either full or not accepting.\" <br> \"Working on CVT, they are often rejected as no observations on the patient, especially surgical cases.\" <br> \"I have tried to refer and they are either full or not accepting.\"\n",
        "\n",
        "3. *Conditional or Qualified Yes*: Respondents have used the service or attempted to use it, but faced inconsistent outcomes or challenges.\n",
        "<br>\n",
        "*Examples*:\n",
        "<br>\n",
        "\"Yes, however, normally unsuccessful and advised no beds. Advised normally only fit to sit spaces available, and this is often full as well. \" <br> \"Yes, but it can be difficult and inconsistent. In my opinion, SDEC is a waste of time, money, and space. For instance, Shrewsbury SDEC has 6 beds and a 'fit to sit' area but only accepts patients for 10 hours a day. If patients aren’t suitable for SDEC, they must go to A&E anyway—why not utilize those beds for additional majors, open 24 hours a day, and make the service worthwhile?\"\n",
        "\n",
        "4. *Sometimes*:  Respondents indicate occasional or situational use of SDEC Services\n",
        "\n",
        "5. *SDEC Not Available*: Respondents have noted that SDEC services are not available in their area, such as Stoke.\n",
        "\n",
        "## Column\n"
      ],
      "id": "a629faf2"
    },
    {
      "cell_type": "code",
      "metadata": {
        "title": "Have you used SDEC Services?"
      },
      "source": [
        "Q8_theme = pd.DataFrame(theme.iloc[:, 4].dropna())\n",
        "\n",
        "plot_bar_chart2(Q8_theme, column = 'Q8.Theme', title = \"\")"
      ],
      "id": "8b557719",
      "execution_count": null,
      "outputs": []
    },
    {
      "cell_type": "markdown",
      "metadata": {},
      "source": [
        "## Column {.tabset}\n"
      ],
      "id": "322f2b2d"
    },
    {
      "cell_type": "code",
      "metadata": {
        "title": "The Most Frequent Unigrams"
      },
      "source": [
        "plot_wordcloud(Q8_word_counts)"
      ],
      "id": "4617327d",
      "execution_count": null,
      "outputs": []
    },
    {
      "cell_type": "code",
      "metadata": {
        "title": "The Most Frequent Bigrams"
      },
      "source": [
        "plot_treemap(ngrams_function = find_bigrams, tokenized_response_df = Q8_df,  ngram_column = \"Bigram\")"
      ],
      "id": "8a7cff20",
      "execution_count": null,
      "outputs": []
    },
    {
      "cell_type": "markdown",
      "metadata": {},
      "source": [
        "# Data   {orientation=\"rows\" fill=\"false\"}\n"
      ],
      "id": "a4c860e6"
    },
    {
      "cell_type": "code",
      "metadata": {},
      "source": [
        "allData = pd.read_excel('data\\AllData.xlsx')\n",
        "from itables import show\n",
        "\n",
        "show(allData, \n",
        "search = False,\n",
        "paging = True,\n",
        "buttons = ['copy', 'excel', 'pdf'])"
      ],
      "id": "b8ca3a82",
      "execution_count": null,
      "outputs": []
    }
  ],
  "metadata": {
    "kernelspec": {
      "name": "python3",
      "language": "python",
      "display_name": "Python 3 (ipykernel)"
    }
  },
  "nbformat": 4,
  "nbformat_minor": 5
}